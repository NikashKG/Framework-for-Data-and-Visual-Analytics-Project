{
 "cells": [
  {
   "cell_type": "code",
   "execution_count": 1,
   "id": "5ce399bf",
   "metadata": {},
   "outputs": [],
   "source": [
    "import pandas as pd\n",
    "import numpy as np\n",
    "import matplotlib.pyplot as plt\n",
    "import seaborn as sns"
   ]
  },
  {
   "cell_type": "code",
   "execution_count": 3,
   "id": "182b5f1e",
   "metadata": {},
   "outputs": [],
   "source": [
    "# 1. Festival Dataset\n",
    "festival_df = pd.read_csv('E:\\\\FDVA\\\\data\\\\raw\\\\synthetic_global_festivals_500.csv')\n",
    "\n",
    "# 2. Tourist Arrivals by Country (heatflow)\n",
    "tourist_df = pd.read_csv('E:\\\\FDVA\\\\data\\\\raw\\\\structured_UNWTO_tourism_data.csv')  # Ensure monthly/yearly columns\n",
    "\n",
    "# 3. Cost of Living / Affordability Dataset\n",
    "cost_df = pd.read_csv('E:\\\\FDVA\\\\data\\\\raw\\\\wikipedia_cost_of_living_indices3.csv')\n",
    "\n",
    "# 4. Geo-Tagged Tourism Reviews (for sentiment)\n",
    "reviews_df = pd.read_csv('E:\\\\FDVA\\\\data\\\\raw\\\\tripadvisor_hotel_reviews.csv')\n"
   ]
  },
  {
   "cell_type": "code",
   "execution_count": 4,
   "id": "d68883de",
   "metadata": {},
   "outputs": [
    {
     "name": "stdout",
     "output_type": "stream",
     "text": [
      "=== Festival Dataset ===\n",
      "Shape: (500, 7)\n",
      "Missing values:\n",
      " Festival_Name    0\n",
      "Country          0\n",
      "Month            0\n",
      "Impact_Score     0\n",
      "Category         0\n",
      "Lat              0\n",
      "Lon              0\n",
      "dtype: int64\n",
      "Duplicates: 0\n",
      "\n",
      "\n",
      "=== Tourist Arrivals Dataset ===\n",
      "Shape: (8253, 33)\n",
      "Missing values:\n",
      " Country           0\n",
      "Report Type       0\n",
      "Category          0\n",
      "Subcategory       0\n",
      "Metric            0\n",
      "1995           5773\n",
      "1996           5730\n",
      "1997           5643\n",
      "1998           5573\n",
      "1999           5513\n",
      "2000           5412\n",
      "2001           5314\n",
      "2002           5286\n",
      "2003           5252\n",
      "2004           5211\n",
      "2005           5046\n",
      "2006           4912\n",
      "2007           4779\n",
      "2008           4733\n",
      "2009           4694\n",
      "2010           4630\n",
      "2011           4629\n",
      "2012           4608\n",
      "2013           4573\n",
      "2014           4528\n",
      "2015           4461\n",
      "2016           4444\n",
      "2017           4480\n",
      "2018           4509\n",
      "2019           4564\n",
      "2020           4773\n",
      "2021           4958\n",
      "2022           5542\n",
      "dtype: int64\n",
      "Duplicates: 0\n",
      "\n",
      "\n",
      "=== Cost of Living Dataset ===\n",
      "Shape: (121, 7)\n",
      "Missing values:\n",
      " Country                           0\n",
      "Cost of Living Index              0\n",
      "Rent Index                        0\n",
      "Cost of Living Plus Rent Index    0\n",
      "Groceries Index                   0\n",
      "Restaurant Price Index            0\n",
      "Local Purchasing Power Index      0\n",
      "dtype: int64\n",
      "Duplicates: 0\n",
      "\n",
      "\n",
      "=== Travel Reviews Dataset ===\n",
      "Shape: (20491, 2)\n",
      "Missing values:\n",
      " Review    0\n",
      "Rating    0\n",
      "dtype: int64\n",
      "Duplicates: 0\n",
      "\n",
      "\n"
     ]
    }
   ],
   "source": [
    "# Function to check basic info\n",
    "def clean_overview(df, name):\n",
    "    print(f\"=== {name} ===\")\n",
    "    print(\"Shape:\", df.shape)\n",
    "    print(\"Missing values:\\n\", df.isnull().sum())\n",
    "    print(\"Duplicates:\", df.duplicated().sum())\n",
    "    print(\"\\n\")\n",
    "\n",
    "clean_overview(festival_df, \"Festival Dataset\")\n",
    "clean_overview(tourist_df, \"Tourist Arrivals Dataset\")\n",
    "clean_overview(cost_df, \"Cost of Living Dataset\")\n",
    "clean_overview(reviews_df, \"Travel Reviews Dataset\")"
   ]
  },
  {
   "cell_type": "code",
   "execution_count": 10,
   "id": "a6c2d352",
   "metadata": {},
   "outputs": [],
   "source": [
    "years = [str(y) for y in range(1995, 2023)]\n",
    "tourist_df[years] = tourist_df[years].apply(pd.to_numeric, errors='coerce')\n",
    "tourist_df[years] = tourist_df[years].interpolate()\n"
   ]
  },
  {
   "cell_type": "code",
   "execution_count": 12,
   "id": "d8464a3a",
   "metadata": {},
   "outputs": [
    {
     "name": "stderr",
     "output_type": "stream",
     "text": [
      "C:\\Users\\NIKASH\\AppData\\Local\\Temp\\ipykernel_13456\\3896280515.py:6: FutureWarning: DataFrame.interpolate with object dtype is deprecated and will raise in a future version. Call obj.infer_objects(copy=False) before interpolating instead.\n",
      "  tourist_df = tourist_df.interpolate()\n"
     ]
    }
   ],
   "source": [
    "festival_df = festival_df.drop_duplicates()\n",
    "festival_df['Impact_Score'] = festival_df['Impact_Score'].clip(0,1)\n",
    "\n",
    "tourist_df = tourist_df.drop_duplicates()\n",
    "# Example: Fill missing monthly data with interpolation\n",
    "tourist_df = tourist_df.interpolate()\n",
    "\n",
    "cost_df = cost_df.drop_duplicates()\n",
    "# For simplicity, we can define it as: Cost of Living Index / Local Purchasing Power Index\n",
    "cost_df['Affordability_Index'] = cost_df['Cost of Living Index'] / cost_df['Local Purchasing Power Index']\n",
    "\n",
    "reviews_df['Review_Text'] = reviews_df['Review']\n",
    "reviews_df['Sentiment_Score'] = np.random.uniform(0.6,1.0, size=len(reviews_df))\n",
    "\n",
    "reviews_df = reviews_df.drop_duplicates()\n",
    "reviews_df['Review_Text'] = reviews_df['Review_Text'].fillna('')\n"
   ]
  },
  {
   "cell_type": "code",
   "execution_count": 13,
   "id": "50c6f029",
   "metadata": {},
   "outputs": [],
   "source": [
    "def month_to_season(month):\n",
    "    if month in [12,1,2]: return 'Winter'\n",
    "    elif month in [3,4,5]: return 'Spring'\n",
    "    elif month in [6,7,8]: return 'Summer'\n",
    "    else: return 'Autumn'\n",
    "\n",
    "festival_df['Season'] = festival_df['Month'].astype(int).apply(month_to_season)\n"
   ]
  },
  {
   "cell_type": "code",
   "execution_count": 16,
   "id": "f5ec4b55",
   "metadata": {},
   "outputs": [],
   "source": [
    "# ---- Corrected Tourism Intensity Calculation ----\n",
    "year_cols = [str(y) for y in range(1995, 2023)]\n",
    "tourist_df[year_cols] = tourist_df[year_cols].apply(pd.to_numeric, errors='coerce')\n",
    "tourist_df[year_cols] = tourist_df[year_cols].interpolate()\n",
    "\n",
    "tourist_df['Avg_Arrivals'] = tourist_df[year_cols].mean(axis=1)\n",
    "tourist_df['Tourism_Intensity'] = (\n",
    "    (tourist_df['Avg_Arrivals'] - tourist_df['Avg_Arrivals'].min()) /\n",
    "    (tourist_df['Avg_Arrivals'].max() - tourist_df['Avg_Arrivals'].min())\n",
    ")\n"
   ]
  },
  {
   "cell_type": "code",
   "execution_count": 17,
   "id": "76b8c78b",
   "metadata": {},
   "outputs": [],
   "source": [
    "# Example: placeholder sentiment score (later NLP)\n",
    "reviews_df['Sentiment_Score'] = np.random.uniform(0.6,1.0, size=len(reviews_df))\n"
   ]
  },
  {
   "cell_type": "code",
   "execution_count": 21,
   "id": "6526281a",
   "metadata": {},
   "outputs": [
    {
     "name": "stdout",
     "output_type": "stream",
     "text": [
      "All processed CSVs saved!\n"
     ]
    }
   ],
   "source": [
    "festival_df.to_csv('E:\\\\FDVA\\\\data\\\\processed\\\\festivals_processed.csv', index=False)\n",
    "tourist_df.to_csv('E:\\\\FDVA\\\\data\\\\processed\\\\tourist_processed.csv', index=False)\n",
    "cost_df.to_csv('E:\\\\FDVA\\\\data\\\\processed\\\\cost_processed.csv', index=False)\n",
    "reviews_df.to_csv('E:\\\\FDVA\\\\data\\\\processed\\\\reviews_processed.csv', index=False)\n",
    "\n",
    "print(\"All processed CSVs saved!\")\n"
   ]
  }
 ],
 "metadata": {
  "kernelspec": {
   "display_name": "Python 3",
   "language": "python",
   "name": "python3"
  },
  "language_info": {
   "codemirror_mode": {
    "name": "ipython",
    "version": 3
   },
   "file_extension": ".py",
   "mimetype": "text/x-python",
   "name": "python",
   "nbconvert_exporter": "python",
   "pygments_lexer": "ipython3",
   "version": "3.9.6"
  }
 },
 "nbformat": 4,
 "nbformat_minor": 5
}
